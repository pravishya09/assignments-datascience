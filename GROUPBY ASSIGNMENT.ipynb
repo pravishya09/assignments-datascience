{
 "cells": [
  {
   "cell_type": "markdown",
   "id": "7f0e4fd4-8e13-40ae-9713-64194ec7f894",
   "metadata": {},
   "source": [
    "GROUPBY ASSIGNMENT"
   ]
  },
  {
   "cell_type": "markdown",
   "id": "13787f5a-8ffa-41ab-b556-0f7b5317fc6b",
   "metadata": {},
   "source": [
    "USING A DATAFRAME CONTAINING STUDENT SCORES(STUDENT,SUBJECT,SCORE)\n",
    "GROUP THE DATA BY SUBJECT AND FILTER TO SHOW ONLY THOSE SUBJECTS WHERE THE AVERAGE SCORE IS ABOVE 75"
   ]
  },
  {
   "cell_type": "code",
   "execution_count": 3,
   "id": "ca5b60c9-5f54-4a80-a4a8-5f36e91a0352",
   "metadata": {},
   "outputs": [],
   "source": [
    "import numpy as np"
   ]
  },
  {
   "cell_type": "code",
   "execution_count": 4,
   "id": "824a0c91-15dc-405e-a48e-6b21e0ef0863",
   "metadata": {},
   "outputs": [],
   "source": [
    "import pandas as pd"
   ]
  },
  {
   "cell_type": "code",
   "execution_count": 15,
   "id": "f5773cab-4c5e-4aed-807c-2d1011f5c53a",
   "metadata": {},
   "outputs": [
    {
     "data": {
      "text/html": [
       "<div>\n",
       "<style scoped>\n",
       "    .dataframe tbody tr th:only-of-type {\n",
       "        vertical-align: middle;\n",
       "    }\n",
       "\n",
       "    .dataframe tbody tr th {\n",
       "        vertical-align: top;\n",
       "    }\n",
       "\n",
       "    .dataframe thead th {\n",
       "        text-align: right;\n",
       "    }\n",
       "</style>\n",
       "<table border=\"1\" class=\"dataframe\">\n",
       "  <thead>\n",
       "    <tr style=\"text-align: right;\">\n",
       "      <th></th>\n",
       "      <th>Student</th>\n",
       "      <th>Subject</th>\n",
       "      <th>Score</th>\n",
       "    </tr>\n",
       "  </thead>\n",
       "  <tbody>\n",
       "    <tr>\n",
       "      <th>0</th>\n",
       "      <td>Aby</td>\n",
       "      <td>English</td>\n",
       "      <td>80</td>\n",
       "    </tr>\n",
       "    <tr>\n",
       "      <th>1</th>\n",
       "      <td>Sam</td>\n",
       "      <td>Maths</td>\n",
       "      <td>40</td>\n",
       "    </tr>\n",
       "    <tr>\n",
       "      <th>2</th>\n",
       "      <td>Riya</td>\n",
       "      <td>Chemistry</td>\n",
       "      <td>57</td>\n",
       "    </tr>\n",
       "    <tr>\n",
       "      <th>3</th>\n",
       "      <td>Alan</td>\n",
       "      <td>Biology</td>\n",
       "      <td>90</td>\n",
       "    </tr>\n",
       "    <tr>\n",
       "      <th>4</th>\n",
       "      <td>Noor</td>\n",
       "      <td>Physics</td>\n",
       "      <td>85</td>\n",
       "    </tr>\n",
       "  </tbody>\n",
       "</table>\n",
       "</div>"
      ],
      "text/plain": [
       "  Student    Subject  Score\n",
       "0     Aby    English     80\n",
       "1     Sam      Maths     40\n",
       "2    Riya  Chemistry     57\n",
       "3    Alan    Biology     90\n",
       "4    Noor    Physics     85"
      ]
     },
     "execution_count": 15,
     "metadata": {},
     "output_type": "execute_result"
    }
   ],
   "source": [
    "df1=pd.DataFrame({'Student':['Aby','Sam','Riya','Alan','Noor'],\n",
    "                  'Subject':['English','Maths','Chemistry','Biology','Physics'],\n",
    "                  'Score':[80,40,57,90,85]})\n",
    "df1"
   ]
  },
  {
   "cell_type": "code",
   "execution_count": 6,
   "id": "0d004c87-e240-4de7-b707-57bc71eca658",
   "metadata": {},
   "outputs": [
    {
     "data": {
      "text/plain": [
       "{'40': [1], '57': [2], '80': [0], '85': [4], '90': [3]}"
      ]
     },
     "execution_count": 6,
     "metadata": {},
     "output_type": "execute_result"
    }
   ],
   "source": [
    "filt=df1.groupby('Score').groups\n",
    "filt"
   ]
  },
  {
   "cell_type": "code",
   "execution_count": 19,
   "id": "b0bd73bd-e7a0-4483-afb0-6a7e451f9eb4",
   "metadata": {},
   "outputs": [
    {
     "data": {
      "text/html": [
       "<div>\n",
       "<style scoped>\n",
       "    .dataframe tbody tr th:only-of-type {\n",
       "        vertical-align: middle;\n",
       "    }\n",
       "\n",
       "    .dataframe tbody tr th {\n",
       "        vertical-align: top;\n",
       "    }\n",
       "\n",
       "    .dataframe thead th {\n",
       "        text-align: right;\n",
       "    }\n",
       "</style>\n",
       "<table border=\"1\" class=\"dataframe\">\n",
       "  <thead>\n",
       "    <tr style=\"text-align: right;\">\n",
       "      <th></th>\n",
       "      <th>Score</th>\n",
       "    </tr>\n",
       "    <tr>\n",
       "      <th>Subject</th>\n",
       "      <th></th>\n",
       "    </tr>\n",
       "  </thead>\n",
       "  <tbody>\n",
       "    <tr>\n",
       "      <th>Biology</th>\n",
       "      <td>90.0</td>\n",
       "    </tr>\n",
       "    <tr>\n",
       "      <th>Chemistry</th>\n",
       "      <td>57.0</td>\n",
       "    </tr>\n",
       "    <tr>\n",
       "      <th>English</th>\n",
       "      <td>80.0</td>\n",
       "    </tr>\n",
       "    <tr>\n",
       "      <th>Maths</th>\n",
       "      <td>40.0</td>\n",
       "    </tr>\n",
       "    <tr>\n",
       "      <th>Physics</th>\n",
       "      <td>85.0</td>\n",
       "    </tr>\n",
       "  </tbody>\n",
       "</table>\n",
       "</div>"
      ],
      "text/plain": [
       "           Score\n",
       "Subject         \n",
       "Biology     90.0\n",
       "Chemistry   57.0\n",
       "English     80.0\n",
       "Maths       40.0\n",
       "Physics     85.0"
      ]
     },
     "execution_count": 19,
     "metadata": {},
     "output_type": "execute_result"
    }
   ],
   "source": [
    "df1=df1.groupby('Subject').agg({'Score':'mean'})\n",
    "df1\n"
   ]
  },
  {
   "cell_type": "code",
   "execution_count": 13,
   "id": "20722b2a-9ada-498a-8f5f-4e29945c016b",
   "metadata": {},
   "outputs": [
    {
     "data": {
      "text/plain": [
       "Student    object\n",
       "Subject    object\n",
       "Score      object\n",
       "dtype: object"
      ]
     },
     "execution_count": 13,
     "metadata": {},
     "output_type": "execute_result"
    }
   ],
   "source": [
    "df1.dtypes"
   ]
  },
  {
   "cell_type": "code",
   "execution_count": null,
   "id": "d97652cf-8846-4e85-8e6c-01950b5240d1",
   "metadata": {},
   "outputs": [],
   "source": []
  },
  {
   "cell_type": "code",
   "execution_count": null,
   "id": "fd166887-219f-4bfb-b901-abcb6186bfb1",
   "metadata": {},
   "outputs": [],
   "source": []
  },
  {
   "cell_type": "code",
   "execution_count": null,
   "id": "3e281220-a27b-409a-9195-1d4c14a9d89b",
   "metadata": {},
   "outputs": [],
   "source": [
    "df1.Score"
   ]
  },
  {
   "cell_type": "code",
   "execution_count": null,
   "id": "8e2d4b0c-4922-4f6a-ab9f-301d5ee93925",
   "metadata": {},
   "outputs": [],
   "source": [
    "df1.Score>'75'"
   ]
  },
  {
   "cell_type": "code",
   "execution_count": null,
   "id": "66162eb3-26ba-4281-9b14-9ad01b535ac6",
   "metadata": {},
   "outputs": [],
   "source": [
    "df=pd.DataFrame({'Student':['Aby','Cyril','Rayan','Alan','Kevin','neel'],\n",
    "                 'English':['50','80','70','40','59','85'],\n",
    "                'Maths':['30','50','78','56','45','90'],\n",
    "                'Biology':['50','56','78','98','57','90']})\n",
    "df"
   ]
  },
  {
   "cell_type": "code",
   "execution_count": null,
   "id": "9e9d3bb1-e2ab-4230-ac5a-ea5ac153169e",
   "metadata": {},
   "outputs": [],
   "source": [
    "df.groupby('English').agg({'English':'mean'})\n"
   ]
  },
  {
   "cell_type": "code",
   "execution_count": null,
   "id": "393abb14-ba93-43f4-881c-a52c673b62bc",
   "metadata": {},
   "outputs": [],
   "source": []
  },
  {
   "cell_type": "code",
   "execution_count": null,
   "id": "18615232-e0fe-40d9-9efb-7073e543b8cd",
   "metadata": {},
   "outputs": [],
   "source": []
  },
  {
   "cell_type": "code",
   "execution_count": null,
   "id": "d1a23209-47e8-41c6-a61e-084c15e4f234",
   "metadata": {},
   "outputs": [],
   "source": []
  },
  {
   "cell_type": "code",
   "execution_count": null,
   "id": "3f0f6662-5009-4f00-9622-7e4a762c14a7",
   "metadata": {},
   "outputs": [],
   "source": []
  }
 ],
 "metadata": {
  "kernelspec": {
   "display_name": "Python 3 (ipykernel)",
   "language": "python",
   "name": "python3"
  },
  "language_info": {
   "codemirror_mode": {
    "name": "ipython",
    "version": 3
   },
   "file_extension": ".py",
   "mimetype": "text/x-python",
   "name": "python",
   "nbconvert_exporter": "python",
   "pygments_lexer": "ipython3",
   "version": "3.12.4"
  }
 },
 "nbformat": 4,
 "nbformat_minor": 5
}
